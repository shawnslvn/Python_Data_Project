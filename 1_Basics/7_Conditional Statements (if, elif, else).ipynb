{
 "cells": [
  {
   "cell_type": "markdown",
   "metadata": {},
   "source": [
    "# Conditional Statements"
   ]
  },
  {
   "cell_type": "markdown",
   "metadata": {},
   "source": [
    "### if, elif, else"
   ]
  },
  {
   "cell_type": "code",
   "execution_count": 2,
   "metadata": {},
   "outputs": [
    {
     "name": "stdout",
     "output_type": "stream",
     "text": [
      "What is up motherfuckers?\n"
     ]
    }
   ],
   "source": [
    "if True: # this tells the if statment that it is true. Not neccesarily the application it would actually be used\n",
    "    print('What is up motherfuckers?')"
   ]
  },
  {
   "cell_type": "code",
   "execution_count": 5,
   "metadata": {},
   "outputs": [
    {
     "name": "stdout",
     "output_type": "stream",
     "text": [
      "Skills Match\n"
     ]
    }
   ],
   "source": [
    "# applicant skill\n",
    "applicant_skill = 'SQL'\n",
    "\n",
    "# skill required for getting job posting\n",
    "job_skill = 'SQL'\n",
    "\n",
    "if (job_skill == applicant_skill):\n",
    "    print('Skills Match')"
   ]
  },
  {
   "cell_type": "code",
   "execution_count": null,
   "metadata": {},
   "outputs": [
    {
     "name": "stdout",
     "output_type": "stream",
     "text": [
      "Enough Experience; No SQL\n"
     ]
    }
   ],
   "source": [
    "years_experience = 6\n",
    "applicant_skill = 'SQL'\n",
    "job_skill = \"Python\"\n",
    "\n",
    "if (job_skill == applicant_skill): # Can have multiple Elif statements as well\n",
    "    print('Skills Match')\n",
    "elif years_experience >= 5:\n",
    "    print('Enough Experience; No SQL')\n"
   ]
  },
  {
   "cell_type": "code",
   "execution_count": 8,
   "metadata": {},
   "outputs": [
    {
     "name": "stdout",
     "output_type": "stream",
     "text": [
      "Enough Experience; No SQL\n"
     ]
    }
   ],
   "source": [
    "years_experience = 6\n",
    "applicant_skill = 'SQL'\n",
    "job_skill = \"Python\"\n",
    "\n",
    "if (job_skill == applicant_skill):\n",
    "    print('Skills Match')\n",
    "elif years_experience >= 5:\n",
    "    print('Enough Experience; No SQL')\n",
    "else:\n",
    "    print('No Skill or Experience')"
   ]
  }
 ],
 "metadata": {
  "kernelspec": {
   "display_name": "base",
   "language": "python",
   "name": "python3"
  },
  "language_info": {
   "codemirror_mode": {
    "name": "ipython",
    "version": 3
   },
   "file_extension": ".py",
   "mimetype": "text/x-python",
   "name": "python",
   "nbconvert_exporter": "python",
   "pygments_lexer": "ipython3",
   "version": "3.12.7"
  }
 },
 "nbformat": 4,
 "nbformat_minor": 2
}
