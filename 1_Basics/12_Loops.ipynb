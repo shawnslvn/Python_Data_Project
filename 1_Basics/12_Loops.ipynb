{
 "cells": [
  {
   "cell_type": "markdown",
   "metadata": {},
   "source": [
    "# Loops\n",
    "### For Loops"
   ]
  },
  {
   "cell_type": "code",
   "execution_count": 1,
   "metadata": {},
   "outputs": [
    {
     "name": "stdout",
     "output_type": "stream",
     "text": [
      "0\n",
      "1\n",
      "2\n",
      "3\n",
      "4\n",
      "5\n"
     ]
    }
   ],
   "source": [
    "numbers = [0, 1, 2, 3, 4, 5]\n",
    "\n",
    "for number in numbers:\n",
    "    print(number)"
   ]
  },
  {
   "cell_type": "code",
   "execution_count": 3,
   "metadata": {},
   "outputs": [],
   "source": [
    "years_experience = {\n",
    "    'Luke': 3,\n",
    "    'Kelly': 6,\n",
    "    'Shawn': 4,\n",
    "    'Nikki': 3\n",
    "}"
   ]
  },
  {
   "cell_type": "code",
   "execution_count": null,
   "metadata": {},
   "outputs": [
    {
     "name": "stdout",
     "output_type": "stream",
     "text": [
      "Luke\n",
      "Kelly\n",
      "Shawn\n",
      "Nikki\n"
     ]
    }
   ],
   "source": [
    "for person in years_experience: # this is only printing the key\n",
    "    print(person)"
   ]
  },
  {
   "cell_type": "code",
   "execution_count": null,
   "metadata": {},
   "outputs": [
    {
     "name": "stdout",
     "output_type": "stream",
     "text": [
      "3\n",
      "6\n",
      "4\n",
      "3\n"
     ]
    }
   ],
   "source": [
    "for values in years_experience.values(): # this way you can pull the values\n",
    "    print(values)"
   ]
  },
  {
   "cell_type": "code",
   "execution_count": null,
   "metadata": {},
   "outputs": [
    {
     "name": "stdout",
     "output_type": "stream",
     "text": [
      "Luke 3\n",
      "Kelly 6\n",
      "Shawn 4\n",
      "Nikki 3\n"
     ]
    }
   ],
   "source": [
    "for key, value in years_experience.items(): # this will give both the key and value\n",
    "  print(key, value)"
   ]
  },
  {
   "cell_type": "code",
   "execution_count": null,
   "metadata": {},
   "outputs": [
    {
     "name": "stdout",
     "output_type": "stream",
     "text": [
      "Kelly 6\n"
     ]
    }
   ],
   "source": [
    "for key, value in years_experience.items(): \n",
    "    if value > 5:\n",
    "        print(key, value)"
   ]
  },
  {
   "cell_type": "markdown",
   "metadata": {},
   "source": [
    "### While Loops"
   ]
  },
  {
   "cell_type": "code",
   "execution_count": 9,
   "metadata": {},
   "outputs": [
    {
     "name": "stdout",
     "output_type": "stream",
     "text": [
      "1\n",
      "2\n",
      "3\n",
      "4\n"
     ]
    }
   ],
   "source": [
    "count = 1 \n",
    "while count < 5:\n",
    "    print(count)\n",
    "    count += 1"
   ]
  },
  {
   "cell_type": "code",
   "execution_count": null,
   "metadata": {},
   "outputs": [
    {
     "data": {
      "text/plain": [
       "[('Luke', 3), ('Kelly', 6), ('Shawn', 4), ('Nikki', 3), ('Mary', 7)]"
      ]
     },
     "execution_count": 10,
     "metadata": {},
     "output_type": "execute_result"
    }
   ],
   "source": [
    "years_experience = {\n",
    "    'Luke': 3,\n",
    "    'Kelly': 6,\n",
    "    'Shawn': 4,\n",
    "    'Nikki': 3,\n",
    "    'Mary': 7\n",
    "}\n",
    "\n",
    "years_list = list(years_experience.items()) \n",
    "years_list\n",
    " \n",
    "# this creats list pairs so that there is an index to go off of"
   ]
  },
  {
   "cell_type": "code",
   "execution_count": 13,
   "metadata": {},
   "outputs": [
    {
     "name": "stdout",
     "output_type": "stream",
     "text": [
      "Kelly 6\n"
     ]
    }
   ],
   "source": [
    "years = 0\n",
    "index = 0\n",
    "\n",
    "while years < 5:\n",
    "    key, years = years_list[index]\n",
    "    if years >= 5:\n",
    "        print(key, years)\n",
    "    index += 1"
   ]
  },
  {
   "cell_type": "code",
   "execution_count": null,
   "metadata": {},
   "outputs": [],
   "source": []
  }
 ],
 "metadata": {
  "kernelspec": {
   "display_name": "base",
   "language": "python",
   "name": "python3"
  },
  "language_info": {
   "codemirror_mode": {
    "name": "ipython",
    "version": 3
   },
   "file_extension": ".py",
   "mimetype": "text/x-python",
   "name": "python",
   "nbconvert_exporter": "python",
   "pygments_lexer": "ipython3",
   "version": "3.12.7"
  }
 },
 "nbformat": 4,
 "nbformat_minor": 2
}
