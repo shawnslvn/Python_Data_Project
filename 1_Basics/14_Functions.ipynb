{
 "cells": [
  {
   "cell_type": "markdown",
   "metadata": {},
   "source": [
    "# Functions"
   ]
  },
  {
   "cell_type": "code",
   "execution_count": 1,
   "metadata": {},
   "outputs": [],
   "source": [
    "skill_list = ['Python', 'SQL', 'Excel']"
   ]
  },
  {
   "cell_type": "markdown",
   "metadata": {},
   "source": [
    "### Built In Functions"
   ]
  },
  {
   "cell_type": "code",
   "execution_count": null,
   "metadata": {},
   "outputs": [
    {
     "name": "stdout",
     "output_type": "stream",
     "text": [
      "['Python', 'SQL', 'Excel']\n"
     ]
    }
   ],
   "source": [
    "print(skill_list) # These are built in functions\n",
    "type(skill_list)\n",
    "len(skill_list)\n",
    "range(0,5)\n"
   ]
  },
  {
   "cell_type": "code",
   "execution_count": null,
   "metadata": {},
   "outputs": [
    {
     "data": {
      "text/plain": [
       "[85000, 95000, 97000, 100000, 140000]"
      ]
     },
     "execution_count": 5,
     "metadata": {},
     "output_type": "execute_result"
    }
   ],
   "source": [
    "data_salaries = [95_000, 100_000, 85_000, 97_000, 140_000]\n",
    "min(data_salaries)\n",
    "sum(data_salaries)\n",
    "max(data_salaries)\n",
    "sorted(data_salaries)\n",
    "# More math based built in functions"
   ]
  },
  {
   "cell_type": "markdown",
   "metadata": {},
   "source": [
    "### User Defined Functions"
   ]
  },
  {
   "cell_type": "code",
   "execution_count": null,
   "metadata": {},
   "outputs": [
    {
     "data": {
      "text/plain": [
       "120000.0"
      ]
     },
     "execution_count": 18,
     "metadata": {},
     "output_type": "execute_result"
    }
   ],
   "source": [
    "base_salary = 100_000\n",
    "bonus_rate = 0.1\n",
    "\n",
    "# calculate total_salary = base_salary * (1 + bonus rate)\n",
    "\n",
    "def calculate_salary(base_salary, bonus_rate):\n",
    "\n",
    "    total_salary = base_salary * (1 + bonus_rate)\n",
    "\n",
    "    return total_salary\n",
    "\n",
    "calculate_salary(100_000, .2) # could also just run the defined variables\n"
   ]
  },
  {
   "cell_type": "code",
   "execution_count": null,
   "metadata": {},
   "outputs": [],
   "source": [
    "def calculate_salary(base_salary, bonus_rate = .1):\n",
    "\n",
    "    total_salary = base_salary * (1 + bonus_rate)\n",
    "\n",
    "    return total_salary\n",
    "\n",
    "calculate_salary(100_000, .2)\n",
    "\n",
    "# lets say the bonus rate is going to be consistent, you can define what\n",
    "# that rate would be when defining the function. Then you only have to pass\n",
    "# through one argument. That being what the salary is\n"
   ]
  },
  {
   "cell_type": "code",
   "execution_count": null,
   "metadata": {},
   "outputs": [
    {
     "data": {
      "text/plain": [
       "110000.00000000001"
      ]
     },
     "execution_count": 20,
     "metadata": {},
     "output_type": "execute_result"
    }
   ],
   "source": [
    "def calculate_salary2(base_salary, bonus_rate = .1):\n",
    "\n",
    "    total_salary = base_salary * (1 + bonus_rate)\n",
    "\n",
    "    return total_salary\n",
    "\n",
    "salary_1 = 100_000\n",
    "rate_1 = .1\n",
    "\n",
    "calculate_salary2(salary_1)\n",
    "\n",
    "# I didn't have to pass through both arguments\n",
    "# you can also override the standard input for the defined rate\n",
    "# by passing through a rate argument"
   ]
  }
 ],
 "metadata": {
  "kernelspec": {
   "display_name": "base",
   "language": "python",
   "name": "python3"
  },
  "language_info": {
   "codemirror_mode": {
    "name": "ipython",
    "version": 3
   },
   "file_extension": ".py",
   "mimetype": "text/x-python",
   "name": "python",
   "nbconvert_exporter": "python",
   "pygments_lexer": "ipython3",
   "version": "3.12.7"
  }
 },
 "nbformat": 4,
 "nbformat_minor": 2
}
