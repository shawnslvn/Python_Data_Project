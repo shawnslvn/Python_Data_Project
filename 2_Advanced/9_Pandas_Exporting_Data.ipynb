{
 "cells": [
  {
   "cell_type": "code",
   "execution_count": 2,
   "id": "21cd0448",
   "metadata": {},
   "outputs": [],
   "source": [
    "import pandas as pd\n",
    "from datasets import load_dataset\n",
    "import matplotlib.pyplot as plt\n",
    "\n",
    "dataset = load_dataset('lukebarousse/data_jobs')\n",
    "df = dataset['train'].to_pandas()\n",
    "\n",
    "# Data Cleanup\n",
    "df['job_posted_date'] = pd.to_datetime(df['job_posted_date'])\n",
    "\n",
    "# data for real example with provided dataset\n",
    "\n",
    "df['job_posted_month'] = df['job_posted_date'].dt.strftime('%b')\n",
    "\n",
    "months = df['job_posted_month'].unique()\n",
    "\n",
    "dict_months = {month:  df[df['job_posted_month'] == month] for month in months}\n",
    "\n",
    "df_q1 = pd.concat([dict_months['Jan'], dict_months['Feb'], dict_months['Mar']], ignore_index=True)\n",
    "\n",
    "# bringing in previous example data to pick up where we left off and continue tutorial\n"
   ]
  },
  {
   "cell_type": "code",
   "execution_count": null,
   "id": "e1eada43",
   "metadata": {},
   "outputs": [],
   "source": [
    "df_q1.head().to_clipboard(sep=',')\n",
    "\n",
    "# this will make the data copy and pastable by adding it to your clipboard ready for paste"
   ]
  },
  {
   "cell_type": "code",
   "execution_count": null,
   "id": "1d721e22",
   "metadata": {},
   "outputs": [],
   "source": [
    ",job_title_short,job_title,job_location,job_via,job_schedule_type,job_work_from_home,search_location,job_posted_date,job_no_degree_mention,job_health_insurance,job_country,salary_rate,salary_year_avg,salary_hour_avg,company_name,job_skills,job_type_skills,job_posted_month\n",
    "0,Data Analyst,Data Analyst,\"Guadalajara, Jalisco, Mexico\",via BeBee México,Full-time,False,Mexico,2023-01-14 13:18:07,False,False,Mexico,,,,Hewlett Packard Enterprise,\"['r', 'python', 'sql', 'nosql', 'power bi', 'tableau']\",\"{'analyst_tools': ['power bi', 'tableau'], 'programming': ['r', 'python', 'sql', 'nosql']}\",Jan\n",
    "1,Data Scientist,Data Scientist,\"Zaventem, Belgium\",via BeBee Belgique,Full-time,False,Belgium,2023-01-31 13:53:38,False,False,Belgium,,,,Devoteam,\"['r', 'python', 'sql', 'pandas', 'numpy', 'scikit-learn', 'matplotlib', 'hadoop', 'spark']\",\"{'libraries': ['pandas', 'numpy', 'scikit-learn', 'matplotlib', 'hadoop', 'spark'], 'programming': ['r', 'python', 'sql']}\",Jan\n",
    "2,Data Engineer,Data Engineer,\"Fort Worth, TX\",via LinkedIn,Full-time,False,\"Texas, United States\",2023-01-25 13:24:01,False,False,United States,,,,Programmers.io,\"['sql', 'python']\",\"{'programming': ['sql', 'python']}\",Jan\n",
    "3,Data Engineer,Data Engineer,\"San Mateo, CA\",via LinkedIn,Full-time,False,\"California, United States\",2023-01-28 13:07:30,False,True,United States,,,,Verkada,\"['sql', 'python', 'aws', 'looker']\",\"{'analyst_tools': ['looker'], 'cloud': ['aws'], 'programming': ['sql', 'python']}\",Jan\n",
    "4,Data Scientist,Data Scientist,\"São Paulo, State of São Paulo, Brazil\",via BeBee,Full-time,False,Brazil,2023-01-03 23:02:27,False,False,Brazil,,,,Mars,\"['python', 'sql', 'azure']\",\"{'cloud': ['azure'], 'programming': ['python', 'sql']}\",Jan\n"
   ]
  },
  {
   "cell_type": "code",
   "execution_count": null,
   "id": "9322c587",
   "metadata": {},
   "outputs": [],
   "source": [
    "df_q1.to_csv('quarter_1.csv')\n",
    "\n",
    "# gives you a CSV file straight into the folder that you are working in. do not have to specify the separator as it is a \n",
    "# CSV and it automatically uses a comma to separate. need to specify the .csv after naming the file to make sure that is \n",
    "# creates the file in the appropriate format"
   ]
  },
  {
   "cell_type": "code",
   "execution_count": null,
   "id": "db822f88",
   "metadata": {},
   "outputs": [],
   "source": [
    "df_q1.to_excel('quarter_1.xlsx')\n",
    "\n",
    "# gives you an excel file and again you need to specify with .xlsx to make sure it is formatted properly"
   ]
  },
  {
   "cell_type": "code",
   "execution_count": null,
   "id": "2c77972c",
   "metadata": {},
   "outputs": [],
   "source": []
  }
 ],
 "metadata": {
  "kernelspec": {
   "display_name": "python_course",
   "language": "python",
   "name": "python3"
  },
  "language_info": {
   "codemirror_mode": {
    "name": "ipython",
    "version": 3
   },
   "file_extension": ".py",
   "mimetype": "text/x-python",
   "name": "python",
   "nbconvert_exporter": "python",
   "pygments_lexer": "ipython3",
   "version": "3.11.11"
  }
 },
 "nbformat": 4,
 "nbformat_minor": 5
}
